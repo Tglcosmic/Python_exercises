{
 "cells": [
  {
   "cell_type": "code",
   "execution_count": 2,
   "metadata": {},
   "outputs": [],
   "source": [
    "import numpy as np\n",
    "import pandas as pd"
   ]
  },
  {
   "cell_type": "markdown",
   "metadata": {},
   "source": [
    "## Bài 1"
   ]
  },
  {
   "cell_type": "markdown",
   "metadata": {},
   "source": [
    "#### Thực hiện kết hợp 2 tập dữ liệu"
   ]
  },
  {
   "cell_type": "code",
   "execution_count": 5,
   "metadata": {},
   "outputs": [
    {
     "data": {
      "text/html": [
       "<div>\n",
       "<style scoped>\n",
       "    .dataframe tbody tr th:only-of-type {\n",
       "        vertical-align: middle;\n",
       "    }\n",
       "\n",
       "    .dataframe tbody tr th {\n",
       "        vertical-align: top;\n",
       "    }\n",
       "\n",
       "    .dataframe thead th {\n",
       "        text-align: right;\n",
       "    }\n",
       "</style>\n",
       "<table border=\"1\" class=\"dataframe\">\n",
       "  <thead>\n",
       "    <tr style=\"text-align: right;\">\n",
       "      <th></th>\n",
       "      <th>product_id</th>\n",
       "      <th>product_name</th>\n",
       "      <th>price</th>\n",
       "    </tr>\n",
       "  </thead>\n",
       "  <tbody>\n",
       "    <tr>\n",
       "      <th>0</th>\n",
       "      <td>101</td>\n",
       "      <td>Apple</td>\n",
       "      <td>2.5</td>\n",
       "    </tr>\n",
       "    <tr>\n",
       "      <th>1</th>\n",
       "      <td>102</td>\n",
       "      <td>Banana</td>\n",
       "      <td>1.8</td>\n",
       "    </tr>\n",
       "    <tr>\n",
       "      <th>2</th>\n",
       "      <td>103</td>\n",
       "      <td>Orange</td>\n",
       "      <td>3.2</td>\n",
       "    </tr>\n",
       "    <tr>\n",
       "      <th>3</th>\n",
       "      <td>104</td>\n",
       "      <td>Mango</td>\n",
       "      <td>4.0</td>\n",
       "    </tr>\n",
       "    <tr>\n",
       "      <th>4</th>\n",
       "      <td>105</td>\n",
       "      <td>Grapes</td>\n",
       "      <td>2.7</td>\n",
       "    </tr>\n",
       "    <tr>\n",
       "      <th>5</th>\n",
       "      <td>106</td>\n",
       "      <td>Cherry</td>\n",
       "      <td>3.5</td>\n",
       "    </tr>\n",
       "  </tbody>\n",
       "</table>\n",
       "</div>"
      ],
      "text/plain": [
       "   product_id product_name  price\n",
       "0         101        Apple    2.5\n",
       "1         102       Banana    1.8\n",
       "2         103       Orange    3.2\n",
       "3         104        Mango    4.0\n",
       "4         105       Grapes    2.7\n",
       "5         106       Cherry    3.5"
      ]
     },
     "execution_count": 5,
     "metadata": {},
     "output_type": "execute_result"
    }
   ],
   "source": [
    "df1 = pd.DataFrame({\n",
    "    'product_id': [101, 102, 103],\n",
    "    'product_name': ['Apple', 'Banana', 'Orange'],\n",
    "    'price': [2.5, 1.8, 3.2]\n",
    "})\n",
    "\n",
    "df2 = pd.DataFrame({\n",
    "    'product_id': [104, 105, 106],\n",
    "    'product_name': ['Mango', 'Grapes', 'Cherry'],\n",
    "    'price': [4.0, 2.7, 3.5]\n",
    "})\n",
    "\n",
    "# Hợp nhất hai DataFrame thành một\n",
    "merged_df = pd.concat([df1, df2], ignore_index=True)  # ignore_index= thiết lập lại chỉ mục mới\n",
    "merged_df"
   ]
  },
  {
   "cell_type": "markdown",
   "metadata": {},
   "source": [
    "## Bài 2"
   ]
  },
  {
   "cell_type": "markdown",
   "metadata": {},
   "source": [
    "#### Thực hiện hợp nhất 2 tập dữ liệu"
   ]
  },
  {
   "cell_type": "code",
   "execution_count": 6,
   "metadata": {},
   "outputs": [
    {
     "name": "stdout",
     "output_type": "stream",
     "text": [
      "   customer_id  product_id  quantity  price\n",
      "0            1         101         2    2.5\n",
      "1            2         102         1    1.8\n",
      "2            3         103         3    3.0\n"
     ]
    }
   ],
   "source": [
    "left_df = pd.DataFrame({\n",
    "    'customer_id': [1, 2, 3],\n",
    "    'product_id': [101, 102, 103],\n",
    "    'quantity': [2, 1, 3]\n",
    "})\n",
    "\n",
    "right_df = pd.DataFrame({\n",
    "    'product_id': [101, 102, 103],\n",
    "    'price': [2.5, 1.8, 3.0]\n",
    "})\n",
    "\n",
    "merged_df = pd.merge(left_df, right_df, on='product_id')    # on= : chỉ định cột được chọn để hợp nhất\n",
    "merged_df\n"
   ]
  },
  {
   "cell_type": "markdown",
   "metadata": {},
   "source": [
    "## Bài 3"
   ]
  },
  {
   "cell_type": "markdown",
   "metadata": {},
   "source": [
    "#### Thực hiện hợp nhất 2 tập dữ liệu"
   ]
  },
  {
   "cell_type": "code",
   "execution_count": 7,
   "metadata": {},
   "outputs": [
    {
     "data": {
      "text/html": [
       "<div>\n",
       "<style scoped>\n",
       "    .dataframe tbody tr th:only-of-type {\n",
       "        vertical-align: middle;\n",
       "    }\n",
       "\n",
       "    .dataframe tbody tr th {\n",
       "        vertical-align: top;\n",
       "    }\n",
       "\n",
       "    .dataframe thead th {\n",
       "        text-align: right;\n",
       "    }\n",
       "</style>\n",
       "<table border=\"1\" class=\"dataframe\">\n",
       "  <thead>\n",
       "    <tr style=\"text-align: right;\">\n",
       "      <th></th>\n",
       "      <th>value_left</th>\n",
       "      <th>value_right</th>\n",
       "    </tr>\n",
       "  </thead>\n",
       "  <tbody>\n",
       "    <tr>\n",
       "      <th>A</th>\n",
       "      <td>1.0</td>\n",
       "      <td>NaN</td>\n",
       "    </tr>\n",
       "    <tr>\n",
       "      <th>B</th>\n",
       "      <td>2.0</td>\n",
       "      <td>4.0</td>\n",
       "    </tr>\n",
       "    <tr>\n",
       "      <th>C</th>\n",
       "      <td>3.0</td>\n",
       "      <td>5.0</td>\n",
       "    </tr>\n",
       "    <tr>\n",
       "      <th>D</th>\n",
       "      <td>NaN</td>\n",
       "      <td>6.0</td>\n",
       "    </tr>\n",
       "  </tbody>\n",
       "</table>\n",
       "</div>"
      ],
      "text/plain": [
       "   value_left  value_right\n",
       "A         1.0          NaN\n",
       "B         2.0          4.0\n",
       "C         3.0          5.0\n",
       "D         NaN          6.0"
      ]
     },
     "execution_count": 7,
     "metadata": {},
     "output_type": "execute_result"
    }
   ],
   "source": [
    "left_df = pd.DataFrame({\n",
    "    'value_left': [1, 2, 3]\n",
    "}, index=['A', 'B', 'C'])\n",
    "\n",
    "\n",
    "right_df = pd.DataFrame({\n",
    "    'value_right': [4, 5, 6]\n",
    "}, index=['B', 'C', 'D'])\n",
    "\n",
    "merged_df = left_df.merge(right_df, left_index=True, right_index=True, how='outer') # chỉ định cách thức kết hợp (VD: inner, outer, left, right)\n",
    "\n",
    "merged_df"
   ]
  },
  {
   "cell_type": "markdown",
   "metadata": {},
   "source": [
    "## Bài 4"
   ]
  },
  {
   "cell_type": "markdown",
   "metadata": {},
   "source": [
    "#### Thực hiện hợp nhất 3 tập dữ liệu"
   ]
  },
  {
   "cell_type": "code",
   "execution_count": 8,
   "metadata": {},
   "outputs": [
    {
     "name": "stdout",
     "output_type": "stream",
     "text": [
      "  key  value_left  value_right  value_third\n",
      "0   A         1.0          NaN          7.0\n",
      "1   B         2.0          4.0          NaN\n",
      "2   C         3.0          5.0          8.0\n",
      "3   D         NaN          6.0          NaN\n",
      "4   E         NaN          NaN          9.0\n"
     ]
    }
   ],
   "source": [
    "left_df = pd.DataFrame({\n",
    "    'key': ['A', 'B', 'C'],\n",
    "    'value_left': [1, 2, 3]\n",
    "})\n",
    "\n",
    "right_df = pd.DataFrame({\n",
    "    'key': ['B', 'C', 'D'],\n",
    "    'value_right': [4, 5, 6]\n",
    "})\n",
    "\n",
    "third_df = pd.DataFrame({\n",
    "    'key': ['A', 'C', 'E'],\n",
    "    'value_third': [7, 8, 9]\n",
    "})\n",
    "\n",
    "# Hợp nhất ba DataFrame thành một\n",
    "merged_df = pd.merge(left_df, right_df, on='key', how='outer')\n",
    "merged_df = pd.merge(merged_df, third_df, on='key', how='outer')\n",
    "\n",
    "print(merged_df)\n"
   ]
  }
 ],
 "metadata": {
  "kernelspec": {
   "display_name": "Python 3",
   "language": "python",
   "name": "python3"
  },
  "language_info": {
   "codemirror_mode": {
    "name": "ipython",
    "version": 3
   },
   "file_extension": ".py",
   "mimetype": "text/x-python",
   "name": "python",
   "nbconvert_exporter": "python",
   "pygments_lexer": "ipython3",
   "version": "3.12.1"
  }
 },
 "nbformat": 4,
 "nbformat_minor": 2
}
