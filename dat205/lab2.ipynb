{
 "cells": [
  {
   "cell_type": "code",
   "execution_count": 11,
   "metadata": {},
   "outputs": [],
   "source": [
    "import pandas as pd\n",
    "import numpy as np"
   ]
  },
  {
   "cell_type": "markdown",
   "metadata": {},
   "source": [
    "# Bài 1"
   ]
  },
  {
   "cell_type": "code",
   "execution_count": 27,
   "metadata": {},
   "outputs": [],
   "source": [
    "filelab2 = r\"data\\lab2.csv\"\n",
    "data = pd.read_csv(filelab2)\n",
    "df = pd.DataFrame(data)"
   ]
  },
  {
   "cell_type": "code",
   "execution_count": 28,
   "metadata": {},
   "outputs": [
    {
     "name": "stdout",
     "output_type": "stream",
     "text": [
      "      name  age  gender  score\n",
      "0    David   22    Male     77\n",
      "1    David   24  Female     80\n",
      "2    David   29     NaN     82\n",
      "3    David   19  Female     99\n",
      "4      NaN   24     NaN     89\n",
      "5     Emma   19  Female     88\n",
      "6      NaN   18    Male     88\n",
      "7      Bob   28  Female     79\n",
      "8      Bob   22     NaN     71\n",
      "9  Charlie   28     NaN     78\n"
     ]
    }
   ],
   "source": [
    "print(df.head(10))   # In ra 5 dòng đầu tiên của dữ liệu"
   ]
  },
  {
   "cell_type": "code",
   "execution_count": 14,
   "metadata": {},
   "outputs": [
    {
     "name": "stdout",
     "output_type": "stream",
     "text": [
      "<class 'pandas.core.frame.DataFrame'>\n",
      "RangeIndex: 1000 entries, 0 to 999\n",
      "Data columns (total 4 columns):\n",
      " #   Column  Non-Null Count  Dtype \n",
      "---  ------  --------------  ----- \n",
      " 0   name    833 non-null    object\n",
      " 1   age     1000 non-null   int64 \n",
      " 2   gender  649 non-null    object\n",
      " 3   score   1000 non-null   int64 \n",
      "dtypes: int64(2), object(2)\n",
      "memory usage: 31.4+ KB\n",
      "None\n"
     ]
    }
   ],
   "source": [
    "print(df.info())    # Hiện thông tin và cấu trúc của DataFrame"
   ]
  },
  {
   "cell_type": "markdown",
   "metadata": {},
   "source": [
    "# Bài 2\n"
   ]
  },
  {
   "cell_type": "code",
   "execution_count": 57,
   "metadata": {},
   "outputs": [
    {
     "name": "stdout",
     "output_type": "stream",
     "text": [
      "Giá trị trung bình của cột Age là: 23.429\n",
      "Độ lệch chuẩn của cột Age là: 3.43055793242553\n",
      "số lượng giá trị thiếu trong mỗi cột:\n",
      "name      167\n",
      "age         0\n",
      "gender    351\n",
      "score       0\n",
      "dtype: int64\n",
      "Các giá trị duy nhất trong cột Age là[22 24 29 19 18 28 21 20 23 26 25 27]\n"
     ]
    }
   ],
   "source": [
    "print(f'Giá trị trung bình của cột Age là: {df[\"age\"].mean()}')\n",
    "print(f'Độ lệch chuẩn của cột Age là: {df['age'].std()}')\n",
    "print (f'số lượng giá trị thiếu trong mỗi cột:\\n{df.isna().sum()}')\n",
    "print(f'Các giá trị duy nhất trong cột Age là{df['age'].unique()}')"
   ]
  },
  {
   "cell_type": "markdown",
   "metadata": {},
   "source": [
    "# Bài 3"
   ]
  },
  {
   "cell_type": "code",
   "execution_count": 23,
   "metadata": {},
   "outputs": [
    {
     "name": "stdout",
     "output_type": "stream",
     "text": [
      "Kích thước của DataFrame df là:\n",
      " (1000, 4)\n"
     ]
    }
   ],
   "source": [
    "print(f'Kích thước của DataFrame df là:\\n {df.shape}')"
   ]
  },
  {
   "cell_type": "code",
   "execution_count": 24,
   "metadata": {},
   "outputs": [
    {
     "name": "stdout",
     "output_type": "stream",
     "text": [
      "Báo cáo mô tả tổng quan của df là:\n",
      "                age        score\n",
      "count  1000.000000  1000.000000\n",
      "mean     23.429000    79.263000\n",
      "std       3.430558    11.560254\n",
      "min      18.000000    60.000000\n",
      "25%      21.000000    69.000000\n",
      "50%      23.000000    79.000000\n",
      "75%      26.000000    89.000000\n",
      "max      29.000000    99.000000\n"
     ]
    }
   ],
   "source": [
    "print(f'Báo cáo mô tả tổng quan của df là:\\n {df.describe()}')"
   ]
  },
  {
   "cell_type": "code",
   "execution_count": 59,
   "metadata": {},
   "outputs": [
    {
     "name": "stdout",
     "output_type": "stream",
     "text": [
      "Dữ liệu ở hàng thứ 10 là:\n",
      " name      Charlie\n",
      "age            28\n",
      "gender        NaN\n",
      "score          78\n",
      "Name: 9, dtype: object\n"
     ]
    }
   ],
   "source": [
    "print(f'Dữ liệu ở hàng thứ 10 là:\\n {df.loc[9]}')"
   ]
  },
  {
   "cell_type": "code",
   "execution_count": 46,
   "metadata": {},
   "outputs": [
    {
     "name": "stdout",
     "output_type": "stream",
     "text": [
      "Dữ liệu ở hàng thứ 5 cột name là:\n",
      " nan\n"
     ]
    }
   ],
   "source": [
    "print(f'Dữ liệu ở hàng thứ 5 cột name là:\\n {df['name'][4]}')   #kết hợp tách cột với dòng (slicing 'cắt lát')"
   ]
  }
 ],
 "metadata": {
  "kernelspec": {
   "display_name": "Python 3",
   "language": "python",
   "name": "python3"
  },
  "language_info": {
   "codemirror_mode": {
    "name": "ipython",
    "version": 3
   },
   "file_extension": ".py",
   "mimetype": "text/x-python",
   "name": "python",
   "nbconvert_exporter": "python",
   "pygments_lexer": "ipython3",
   "version": "3.12.1"
  }
 },
 "nbformat": 4,
 "nbformat_minor": 2
}
