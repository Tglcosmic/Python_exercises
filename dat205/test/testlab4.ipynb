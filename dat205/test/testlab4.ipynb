{
 "cells": [
  {
   "cell_type": "code",
   "execution_count": 2,
   "metadata": {},
   "outputs": [],
   "source": [
    "import pandas as pd\n",
    "import numpy as np"
   ]
  },
  {
   "cell_type": "code",
   "execution_count": 6,
   "metadata": {},
   "outputs": [],
   "source": [
    "filepath = r'H:\\Python_exercises\\dat205\\data\\04.BangLuong-top2.csv'\n",
    "data = pd.read_csv(filepath)\n",
    "df = pd.DataFrame(data)"
   ]
  },
  {
   "cell_type": "code",
   "execution_count": 139,
   "metadata": {},
   "outputs": [
    {
     "name": "stdout",
     "output_type": "stream",
     "text": [
      "                   ID      Name     Sex  Age Department   Salary\n",
      "Department                                                      \n",
      "Finance    3   PS5028  Tony Teo  Female   39    Finance   6700.0\n",
      "           7   PS7562   Charlie  Female   26    Finance   6300.0\n",
      "           12  PS2296   Charlie    Male   36    Finance   9900.0\n",
      "           14  PS7415       Mia    Male   30    Finance   8700.0\n",
      "           16  PS3715  Tony Teo  Female   25    Finance  10000.0\n",
      "...               ...       ...     ...  ...        ...      ...\n",
      "Sales      81  PS1802    Sophia    Male   27      Sales   4300.0\n",
      "           83  PS7166     Alice  Female   36      Sales   4400.0\n",
      "           84  PS7230    Sophia  Female   25      Sales   8600.0\n",
      "           88  PS3595    Olivia  Female   38      Sales   9300.0\n",
      "           90  PS6839       Eva  Female   30      Sales   8300.0\n",
      "\n",
      "[100 rows x 6 columns]\n",
      "Đại diện 2 nhân viên có mức lương cao nhất mỗi bộ phận:\n",
      "                   ID      Name     Sex  Age Department   Salary\n",
      "Department                                                      \n",
      "Finance    18  PS2951   William  Female   29    Finance  10000.0\n",
      "           4   PS3715  Tony Teo  Female   25    Finance  10000.0\n",
      "HR         37  PS7353     David    Male   44         HR   9700.0\n",
      "           36  PS1855   William  Female   25         HR   9700.0\n",
      "IT         48  PS5358     Alice  Female   26         IT   9600.0\n",
      "           49  PS5151    Olivia  Female   41         IT   9600.0\n",
      "Marketing  64  PS5864       Bob    Male   40  Marketing  10000.0\n",
      "           69  PS2576    Sophia    Male   34  Marketing  10000.0\n",
      "Sales      91  PS6340     Alice    Male   45      Sales   9300.0\n",
      "           98  PS3595    Olivia  Female   38      Sales   9300.0\n"
     ]
    },
    {
     "name": "stderr",
     "output_type": "stream",
     "text": [
      "C:\\Users\\ADMIN\\AppData\\Local\\Temp\\ipykernel_19756\\712671914.py:17: DeprecationWarning: DataFrameGroupBy.apply operated on the grouping columns. This behavior is deprecated, and in a future version of pandas the grouping columns will be excluded from the operation. Either pass `include_groups=False` to exclude the groupings or explicitly select the grouping columns after groupby to silence this warning.\n",
      "  groupdt = data.groupby('Department').apply(create_random_nulls_and_replace_with_max)\n",
      "C:\\Users\\ADMIN\\AppData\\Local\\Temp\\ipykernel_19756\\712671914.py:24: DeprecationWarning: DataFrameGroupBy.apply operated on the grouping columns. This behavior is deprecated, and in a future version of pandas the grouping columns will be excluded from the operation. Either pass `include_groups=False` to exclude the groupings or explicitly select the grouping columns after groupby to silence this warning.\n",
      "  top_2_each_dept = groupdt.groupby('Department').apply(lambda x: x.sort_values('Salary', ascending=False).head(2))\n"
     ]
    }
   ],
   "source": [
    "# Kết hợp hai hàm vào một hàm duy nhất\n",
    "def create_random_nulls_and_replace_with_max(group):\n",
    "    # Sample 3 random positions from the group \n",
    "    random_positions = group.sample(3).index\n",
    "\n",
    "    # Fill the random positions with NaN \n",
    "    group.loc[random_positions, 'Salary'] = np.nan\n",
    "\n",
    "    # Replace null values with max salary of the group\n",
    "    max_salary = group['Salary'].max()\n",
    "    group['Salary'] = group['Salary'].fillna(max_salary)\n",
    "    \n",
    "    # Return group \n",
    "    return group\n",
    "\n",
    "# Áp dụng hàm mới vào từng nhóm bộ phận\n",
    "groupdt = data.groupby('Department').apply(create_random_nulls_and_replace_with_max)\n",
    "print(groupdt)\n",
    "\n",
    "# Đảm bảo 'Department' không còn là một cấp chỉ số\n",
    "groupdt.reset_index(drop=True , inplace=True)\n",
    "\n",
    "# Tìm ra 2 đại diện trong mỗi nhóm có mức lương cao nhất\n",
    "top_2_each_dept = groupdt.groupby('Department').apply(lambda x: x.sort_values('Salary', ascending=False).head(2))\n",
    "\n",
    "print(\"Đại diện 2 nhân viên có mức lương cao nhất mỗi bộ phận:\")\n",
    "print(top_2_each_dept)\n",
    "\n",
    "\n",
    "# # Loại bỏ cột 'Department'\n",
    "# groupdt.reset_index(drop=True, inplace=True)\n",
    "\n",
    "# # Hiển thị tất cả thông tin của một nhóm từ DataFrame đã được xử lý\n",
    "# group_name = 'HR'  # Tên của nhóm bạn muốn hiển thị\n",
    "# group_to_display = groupdt[groupdt['Department'] == group_name]\n",
    "# print(group_to_display)\n"
   ]
  }
 ],
 "metadata": {
  "kernelspec": {
   "display_name": "Python 3",
   "language": "python",
   "name": "python3"
  },
  "language_info": {
   "codemirror_mode": {
    "name": "ipython",
    "version": 3
   },
   "file_extension": ".py",
   "mimetype": "text/x-python",
   "name": "python",
   "nbconvert_exporter": "python",
   "pygments_lexer": "ipython3",
   "version": "3.12.1"
  }
 },
 "nbformat": 4,
 "nbformat_minor": 2
}
