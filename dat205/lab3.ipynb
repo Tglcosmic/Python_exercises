{
 "cells": [
  {
   "cell_type": "code",
   "execution_count": 2,
   "metadata": {},
   "outputs": [],
   "source": [
    "import pandas as pd\n",
    "import numpy as np"
   ]
  },
  {
   "cell_type": "markdown",
   "metadata": {},
   "source": [
    "# Bài 1\n"
   ]
  },
  {
   "cell_type": "code",
   "execution_count": 3,
   "metadata": {},
   "outputs": [
    {
     "data": {
      "text/html": [
       "<div>\n",
       "<style scoped>\n",
       "    .dataframe tbody tr th:only-of-type {\n",
       "        vertical-align: middle;\n",
       "    }\n",
       "\n",
       "    .dataframe tbody tr th {\n",
       "        vertical-align: top;\n",
       "    }\n",
       "\n",
       "    .dataframe thead th {\n",
       "        text-align: right;\n",
       "    }\n",
       "</style>\n",
       "<table border=\"1\" class=\"dataframe\">\n",
       "  <thead>\n",
       "    <tr style=\"text-align: right;\">\n",
       "      <th></th>\n",
       "      <th>name</th>\n",
       "      <th>age</th>\n",
       "      <th>gender</th>\n",
       "      <th>score</th>\n",
       "    </tr>\n",
       "  </thead>\n",
       "  <tbody>\n",
       "    <tr>\n",
       "      <th>0</th>\n",
       "      <td>David</td>\n",
       "      <td>22</td>\n",
       "      <td>Male</td>\n",
       "      <td>77</td>\n",
       "    </tr>\n",
       "    <tr>\n",
       "      <th>1</th>\n",
       "      <td>David</td>\n",
       "      <td>24</td>\n",
       "      <td>Female</td>\n",
       "      <td>80</td>\n",
       "    </tr>\n",
       "    <tr>\n",
       "      <th>2</th>\n",
       "      <td>David</td>\n",
       "      <td>29</td>\n",
       "      <td>NaN</td>\n",
       "      <td>82</td>\n",
       "    </tr>\n",
       "    <tr>\n",
       "      <th>3</th>\n",
       "      <td>David</td>\n",
       "      <td>19</td>\n",
       "      <td>Female</td>\n",
       "      <td>99</td>\n",
       "    </tr>\n",
       "    <tr>\n",
       "      <th>4</th>\n",
       "      <td>NaN</td>\n",
       "      <td>24</td>\n",
       "      <td>NaN</td>\n",
       "      <td>89</td>\n",
       "    </tr>\n",
       "    <tr>\n",
       "      <th>...</th>\n",
       "      <td>...</td>\n",
       "      <td>...</td>\n",
       "      <td>...</td>\n",
       "      <td>...</td>\n",
       "    </tr>\n",
       "    <tr>\n",
       "      <th>995</th>\n",
       "      <td>Alice</td>\n",
       "      <td>29</td>\n",
       "      <td>NaN</td>\n",
       "      <td>90</td>\n",
       "    </tr>\n",
       "    <tr>\n",
       "      <th>996</th>\n",
       "      <td>Emma</td>\n",
       "      <td>18</td>\n",
       "      <td>Male</td>\n",
       "      <td>89</td>\n",
       "    </tr>\n",
       "    <tr>\n",
       "      <th>997</th>\n",
       "      <td>Charlie</td>\n",
       "      <td>26</td>\n",
       "      <td>Female</td>\n",
       "      <td>69</td>\n",
       "    </tr>\n",
       "    <tr>\n",
       "      <th>998</th>\n",
       "      <td>Charlie</td>\n",
       "      <td>24</td>\n",
       "      <td>NaN</td>\n",
       "      <td>65</td>\n",
       "    </tr>\n",
       "    <tr>\n",
       "      <th>999</th>\n",
       "      <td>Emma</td>\n",
       "      <td>21</td>\n",
       "      <td>Female</td>\n",
       "      <td>64</td>\n",
       "    </tr>\n",
       "  </tbody>\n",
       "</table>\n",
       "<p>1000 rows × 4 columns</p>\n",
       "</div>"
      ],
      "text/plain": [
       "        name  age  gender  score\n",
       "0      David   22    Male     77\n",
       "1      David   24  Female     80\n",
       "2      David   29     NaN     82\n",
       "3      David   19  Female     99\n",
       "4        NaN   24     NaN     89\n",
       "..       ...  ...     ...    ...\n",
       "995    Alice   29     NaN     90\n",
       "996     Emma   18    Male     89\n",
       "997  Charlie   26  Female     69\n",
       "998  Charlie   24     NaN     65\n",
       "999     Emma   21  Female     64\n",
       "\n",
       "[1000 rows x 4 columns]"
      ]
     },
     "execution_count": 3,
     "metadata": {},
     "output_type": "execute_result"
    }
   ],
   "source": [
    "filelab2 = r\"data\\lab2.csv\"\n",
    "data = pd.read_csv(filelab2)\n",
    "df = pd.DataFrame(data)\n",
    "df"
   ]
  },
  {
   "cell_type": "code",
   "execution_count": 5,
   "metadata": {},
   "outputs": [
    {
     "name": "stdout",
     "output_type": "stream",
     "text": [
      "Tổng điểm của tất cả học sinh: 79263\n"
     ]
    }
   ],
   "source": [
    "print(f'Tổng điểm của tất cả học sinh: {df['score'].sum()}')"
   ]
  },
  {
   "cell_type": "code",
   "execution_count": 6,
   "metadata": {},
   "outputs": [
    {
     "name": "stdout",
     "output_type": "stream",
     "text": [
      "Tuổi trung bình của học sinh: 23.0\n"
     ]
    }
   ],
   "source": [
    "print(f'Tuổi trung bình của học sinh: {df['age'].median()}')"
   ]
  },
  {
   "cell_type": "code",
   "execution_count": 7,
   "metadata": {},
   "outputs": [
    {
     "name": "stdout",
     "output_type": "stream",
     "text": [
      "Học sinh có điểm số cao nhất 99 và thấp nhất 60\n"
     ]
    }
   ],
   "source": [
    "print(f'Học sinh có điểm số cao nhất {df['score'].max()} và thấp nhất {df['score'].min()}')"
   ]
  },
  {
   "cell_type": "markdown",
   "metadata": {},
   "source": [
    "# Bài 2\n"
   ]
  },
  {
   "cell_type": "code",
   "execution_count": 8,
   "metadata": {},
   "outputs": [
    {
     "name": "stdout",
     "output_type": "stream",
     "text": [
      "Các học sinh có điểm số >= 80:\n",
      "      name  age  gender  score\n",
      "1    David   24  Female     80\n",
      "2    David   29     NaN     82\n",
      "3    David   19  Female     99\n",
      "4      NaN   24     NaN     89\n",
      "5     Emma   19  Female     88\n",
      "..     ...  ...     ...    ...\n",
      "975    Bob   22  Female     92\n",
      "983  David   23  Female     95\n",
      "986   Emma   22    Male     90\n",
      "995  Alice   29     NaN     90\n",
      "996   Emma   18    Male     89\n",
      "\n",
      "[494 rows x 4 columns]\n"
     ]
    }
   ],
   "source": [
    "print(f'Các học sinh có điểm số >= 80:\\n{df.loc[df['score'] >= 80]}')"
   ]
  },
  {
   "cell_type": "code",
   "execution_count": 9,
   "metadata": {},
   "outputs": [
    {
     "name": "stdout",
     "output_type": "stream",
     "text": [
      "Tất cả các học sinh có tuổi lớn hơn 25:\n",
      "        name  age  gender  score\n",
      "2      David   29     NaN     82\n",
      "7        Bob   28  Female     79\n",
      "9    Charlie   28     NaN     78\n",
      "11   Charlie   29    Male     98\n",
      "14       NaN   28    Male     60\n",
      "..       ...  ...     ...    ...\n",
      "988    David   28  Female     74\n",
      "991    David   26     NaN     68\n",
      "993    David   28  Female     60\n",
      "995    Alice   29     NaN     90\n",
      "997  Charlie   26  Female     69\n",
      "\n",
      "[313 rows x 4 columns]\n"
     ]
    }
   ],
   "source": [
    "print(f'Tất cả các học sinh có tuổi lớn hơn 25:\\n{df.loc[df['age'] > 25]}')"
   ]
  },
  {
   "cell_type": "code",
   "execution_count": 10,
   "metadata": {},
   "outputs": [
    {
     "name": "stdout",
     "output_type": "stream",
     "text": [
      "Tất cả các học sinh có tên bắt đầu bằng chữ \"A\"\n",
      ":       name  age  gender  score\n",
      "12   Alice   22  Female     97\n",
      "17   Alice   20  Female     70\n",
      "20   Alice   22    Male     83\n",
      "25   Alice   29  Female     81\n",
      "33   Alice   26    Male     90\n",
      "..     ...  ...     ...    ...\n",
      "971  Alice   27  Female     90\n",
      "976  Alice   26     NaN     70\n",
      "977  Alice   27    Male     67\n",
      "990  Alice   20     NaN     79\n",
      "995  Alice   29     NaN     90\n",
      "\n",
      "[169 rows x 4 columns]\n"
     ]
    }
   ],
   "source": [
    "print(f'Tất cả các học sinh có tên bắt đầu bằng chữ \"A\"\\n: { df[df['name'].notna() & df['name'].str.startswith('A')]}')"
   ]
  },
  {
   "cell_type": "markdown",
   "metadata": {},
   "source": [
    "# Bài 3\n"
   ]
  },
  {
   "cell_type": "code",
   "execution_count": 16,
   "metadata": {},
   "outputs": [
    {
     "name": "stdout",
     "output_type": "stream",
     "text": [
      "Số giá trị còn thiếu trong mỗi cột là:\n",
      "Cột name: 167\n",
      "Cột age: 0\n",
      "Cột gender: 351\n",
      "Cột score: 0\n"
     ]
    }
   ],
   "source": [
    "print(f'Số giá trị còn thiếu trong mỗi cột là:')\n",
    "print(f'Cột name: {df['name'].isnull().sum()}')\n",
    "print(f'Cột age: {df['age'].isnull().sum()}')\n",
    "print(f'Cột gender: {df['gender'].isnull().sum()}')\n",
    "print(f'Cột score: {df['score'].isnull().sum()}')"
   ]
  },
  {
   "cell_type": "code",
   "execution_count": 17,
   "metadata": {},
   "outputs": [
    {
     "name": "stdout",
     "output_type": "stream",
     "text": [
      "Loại bỏ các giá trị thiếu:\n",
      "        name  age  gender  score\n",
      "0      David   22    Male     77\n",
      "1      David   24  Female     80\n",
      "3      David   19  Female     99\n",
      "5       Emma   19  Female     88\n",
      "7        Bob   28  Female     79\n",
      "..       ...  ...     ...    ...\n",
      "993    David   28  Female     60\n",
      "994     Emma   22    Male     60\n",
      "996     Emma   18    Male     89\n",
      "997  Charlie   26  Female     69\n",
      "999     Emma   21  Female     64\n",
      "\n",
      "[546 rows x 4 columns]\n"
     ]
    }
   ],
   "source": [
    "print(f'Loại bỏ các hàng có giá trị thiếu:\\n{df.dropna()}')"
   ]
  },
  {
   "cell_type": "code",
   "execution_count": 19,
   "metadata": {},
   "outputs": [
    {
     "name": "stdout",
     "output_type": "stream",
     "text": [
      "Loại bỏ các hàng trùng lặp:\n",
      "        name  age  gender  score\n",
      "0      David   22    Male     77\n",
      "1      David   24  Female     80\n",
      "2      David   29     NaN     82\n",
      "3      David   19  Female     99\n",
      "4        NaN   24     NaN     89\n",
      "..       ...  ...     ...    ...\n",
      "994     Emma   22    Male     60\n",
      "995    Alice   29     NaN     90\n",
      "996     Emma   18    Male     89\n",
      "998  Charlie   24     NaN     65\n",
      "999     Emma   21  Female     64\n",
      "\n",
      "[941 rows x 4 columns]\n"
     ]
    }
   ],
   "source": [
    "print(f'Loại bỏ các hàng trùng lặp:\\n{df.drop_duplicates()}')"
   ]
  },
  {
   "cell_type": "code",
   "execution_count": 74,
   "metadata": {},
   "outputs": [
    {
     "data": {
      "text/html": [
       "<div>\n",
       "<style scoped>\n",
       "    .dataframe tbody tr th:only-of-type {\n",
       "        vertical-align: middle;\n",
       "    }\n",
       "\n",
       "    .dataframe tbody tr th {\n",
       "        vertical-align: top;\n",
       "    }\n",
       "\n",
       "    .dataframe thead th {\n",
       "        text-align: right;\n",
       "    }\n",
       "</style>\n",
       "<table border=\"1\" class=\"dataframe\">\n",
       "  <thead>\n",
       "    <tr style=\"text-align: right;\">\n",
       "      <th></th>\n",
       "      <th>name</th>\n",
       "      <th>age</th>\n",
       "      <th>gender</th>\n",
       "      <th>score</th>\n",
       "    </tr>\n",
       "  </thead>\n",
       "  <tbody>\n",
       "    <tr>\n",
       "      <th>704</th>\n",
       "      <td>David</td>\n",
       "      <td>24</td>\n",
       "      <td>Male</td>\n",
       "      <td>84</td>\n",
       "    </tr>\n",
       "    <tr>\n",
       "      <th>654</th>\n",
       "      <td>Emma</td>\n",
       "      <td>29</td>\n",
       "      <td>Female</td>\n",
       "      <td>75</td>\n",
       "    </tr>\n",
       "    <tr>\n",
       "      <th>685</th>\n",
       "      <td>David</td>\n",
       "      <td>21</td>\n",
       "      <td>NaN</td>\n",
       "      <td>76</td>\n",
       "    </tr>\n",
       "    <tr>\n",
       "      <th>579</th>\n",
       "      <td>Charlie</td>\n",
       "      <td>19</td>\n",
       "      <td>Male</td>\n",
       "      <td>89</td>\n",
       "    </tr>\n",
       "    <tr>\n",
       "      <th>408</th>\n",
       "      <td>Bob</td>\n",
       "      <td>22</td>\n",
       "      <td>NaN</td>\n",
       "      <td>76</td>\n",
       "    </tr>\n",
       "    <tr>\n",
       "      <th>950</th>\n",
       "      <td>Charlie</td>\n",
       "      <td>28</td>\n",
       "      <td>Male</td>\n",
       "      <td>90</td>\n",
       "    </tr>\n",
       "    <tr>\n",
       "      <th>657</th>\n",
       "      <td>Bob</td>\n",
       "      <td>21</td>\n",
       "      <td>Male</td>\n",
       "      <td>82</td>\n",
       "    </tr>\n",
       "    <tr>\n",
       "      <th>811</th>\n",
       "      <td>NaN</td>\n",
       "      <td>19</td>\n",
       "      <td>Female</td>\n",
       "      <td>81</td>\n",
       "    </tr>\n",
       "    <tr>\n",
       "      <th>947</th>\n",
       "      <td>Alice</td>\n",
       "      <td>23</td>\n",
       "      <td>Male</td>\n",
       "      <td>74</td>\n",
       "    </tr>\n",
       "    <tr>\n",
       "      <th>940</th>\n",
       "      <td>Bob</td>\n",
       "      <td>27</td>\n",
       "      <td>Female</td>\n",
       "      <td>77</td>\n",
       "    </tr>\n",
       "  </tbody>\n",
       "</table>\n",
       "</div>"
      ],
      "text/plain": [
       "        name  age  gender  score\n",
       "704    David   24    Male     84\n",
       "654     Emma   29  Female     75\n",
       "685    David   21     NaN     76\n",
       "579  Charlie   19    Male     89\n",
       "408      Bob   22     NaN     76\n",
       "950  Charlie   28    Male     90\n",
       "657      Bob   21    Male     82\n",
       "811      NaN   19  Female     81\n",
       "947    Alice   23    Male     74\n",
       "940      Bob   27  Female     77"
      ]
     },
     "execution_count": 74,
     "metadata": {},
     "output_type": "execute_result"
    }
   ],
   "source": [
    "# print(f'Tìm và loại bỏ trong cột \"score\" (dưới 60 và trên 100):\\n{}')\n",
    "a = df[(df['score'] > 70) & (df['score'] <= 100)]\n",
    "a.sample(10)"
   ]
  },
  {
   "cell_type": "markdown",
   "metadata": {},
   "source": [
    "# Bài 4"
   ]
  },
  {
   "cell_type": "code",
   "execution_count": 24,
   "metadata": {},
   "outputs": [
    {
     "name": "stdout",
     "output_type": "stream",
     "text": [
      "Chuyển đổi dữ liệu cột age thành int:\n",
      "0      22\n",
      "1      24\n",
      "2      29\n",
      "3      19\n",
      "4      24\n",
      "       ..\n",
      "995    29\n",
      "996    18\n",
      "997    26\n",
      "998    24\n",
      "999    21\n",
      "Name: age, Length: 1000, dtype: int64\n"
     ]
    }
   ],
   "source": [
    "print(f'Chuyển đổi dữ liệu cột age thành int:\\n{df['age'].astype('int64')}')"
   ]
  },
  {
   "cell_type": "code",
   "execution_count": 25,
   "metadata": {},
   "outputs": [
    {
     "name": "stdout",
     "output_type": "stream",
     "text": [
      "Thay thế tất cả giá trị thiếu trong cột gender thành \"Unknown\":\n",
      "0         Male\n",
      "1       Female\n",
      "2      Unknown\n",
      "3       Female\n",
      "4      Unknown\n",
      "        ...   \n",
      "995    Unknown\n",
      "996       Male\n",
      "997     Female\n",
      "998    Unknown\n",
      "999     Female\n",
      "Name: gender, Length: 1000, dtype: object\n"
     ]
    }
   ],
   "source": [
    "print(f'Thay thế tất cả giá trị thiếu trong cột gender thành \"Unknown\":\\n{df['gender'].fillna(\"Unknown\")}')"
   ]
  },
  {
   "cell_type": "code",
   "execution_count": 26,
   "metadata": {},
   "outputs": [
    {
     "name": "stdout",
     "output_type": "stream",
     "text": [
      "Thay thế tất cả các giá trị “na” trong cột \"score\" bằng giá trị trung bình:\n",
      "0      77\n",
      "1      80\n",
      "2      82\n",
      "3      99\n",
      "4      89\n",
      "       ..\n",
      "995    90\n",
      "996    89\n",
      "997    69\n",
      "998    65\n",
      "999    64\n",
      "Name: score, Length: 1000, dtype: int64\n"
     ]
    }
   ],
   "source": [
    "print(f'Thay thế tất cả các giá trị “na” trong cột \"score\" bằng giá trị trung bình:\\n{df['score'].fillna(df['score'].mean())}')"
   ]
  }
 ],
 "metadata": {
  "kernelspec": {
   "display_name": "Python 3",
   "language": "python",
   "name": "python3"
  },
  "language_info": {
   "codemirror_mode": {
    "name": "ipython",
    "version": 3
   },
   "file_extension": ".py",
   "mimetype": "text/x-python",
   "name": "python",
   "nbconvert_exporter": "python",
   "pygments_lexer": "ipython3",
   "version": "3.12.1"
  }
 },
 "nbformat": 4,
 "nbformat_minor": 2
}
