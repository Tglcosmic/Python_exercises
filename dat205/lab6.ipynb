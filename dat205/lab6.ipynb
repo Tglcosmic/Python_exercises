{
 "cells": [
  {
   "cell_type": "code",
   "execution_count": 2,
   "metadata": {},
   "outputs": [],
   "source": [
    "import pandas as pd\n",
    "import numpy as np\n"
   ]
  },
  {
   "cell_type": "markdown",
   "metadata": {},
   "source": [
    "## Bài 1"
   ]
  },
  {
   "cell_type": "markdown",
   "metadata": {},
   "source": [
    "####  Tạo một DataFrame chứa dữ liệu vận chuyển hàng trong tháng trước, trong đó cột 'timestamp' là thời gian giao hàng và cột 'value' là số lượng hàng được giao trong mỗi ngày. Tính toán sốlượng hàng trung bình được giao mỗi tuần trong tháng đó.\n"
   ]
  },
  {
   "cell_type": "code",
   "execution_count": 53,
   "metadata": {},
   "outputs": [
    {
     "name": "stdout",
     "output_type": "stream",
     "text": [
      "                 value\n",
      "timestamp             \n",
      "2024-02-04  152.000000\n",
      "2024-02-11  134.428571\n",
      "2024-02-18  171.142857\n",
      "2024-02-25  149.285714\n",
      "2024-03-03  144.500000\n"
     ]
    }
   ],
   "source": [
    "# Tạo dữ liệu thô gian\n",
    "date_range = pd.date_range(start='2024-02-01', end='2024-02-29', freq='D')\n",
    "values = np.random.randint(100, 200, size=len(date_range))\n",
    "df = pd.DataFrame({'timestamp': date_range\n",
    "                   ,'value': values})\n",
    "# print(values)\n",
    "# Tính tổng số lượng hàng tạm tính bằng mỗi tuần\n",
    "df.set_index(df['timestamp'], inplace=True)\n",
    "weekly_avg = df.resample('W', on='timestamp').mean()\n",
    "print(weekly_avg)\n",
    "\n",
    "# # Tạo dữ liệu thô gian\n",
    "# date_range = pd.date_range(start='2024-02-01', end='2024-02-29', freq='D')\n",
    "# values = np.random.randint(100, 200, size=len(date_range))\n",
    "# df = pd.DataFrame({'timestamp': date_range, 'value': values})\n",
    "# # print(values)\n",
    "# # Tính tổng số lượng hàng tạm tính bằng mỗi tuần\n",
    "# df['week'] = df['timestamp'].dt.weekday\n",
    "# weekly_avg = df.groupby('week')['value'].mean()\n",
    "# print(weekly_avg)\n"
   ]
  },
  {
   "cell_type": "markdown",
   "metadata": {},
   "source": [
    "## Bài 2"
   ]
  },
  {
   "cell_type": "markdown",
   "metadata": {},
   "source": [
    "####  Tạo một DataFrame chứa dữ liệu lưu lượng truy cập hàng ngày trong tháng trước. Chuyển đổi tần suất dữ liệu từ hàng ngày thành hàng tuần và tính tổng lưu lượng truy cập hàng tuần."
   ]
  },
  {
   "cell_type": "code",
   "execution_count": 54,
   "metadata": {},
   "outputs": [
    {
     "data": {
      "text/html": [
       "<div>\n",
       "<style scoped>\n",
       "    .dataframe tbody tr th:only-of-type {\n",
       "        vertical-align: middle;\n",
       "    }\n",
       "\n",
       "    .dataframe tbody tr th {\n",
       "        vertical-align: top;\n",
       "    }\n",
       "\n",
       "    .dataframe thead th {\n",
       "        text-align: right;\n",
       "    }\n",
       "</style>\n",
       "<table border=\"1\" class=\"dataframe\">\n",
       "  <thead>\n",
       "    <tr style=\"text-align: right;\">\n",
       "      <th></th>\n",
       "      <th>traffic</th>\n",
       "    </tr>\n",
       "    <tr>\n",
       "      <th>timestamp</th>\n",
       "      <th></th>\n",
       "    </tr>\n",
       "  </thead>\n",
       "  <tbody>\n",
       "    <tr>\n",
       "      <th>2024-02-04</th>\n",
       "      <td>13370</td>\n",
       "    </tr>\n",
       "    <tr>\n",
       "      <th>2024-02-11</th>\n",
       "      <td>21088</td>\n",
       "    </tr>\n",
       "    <tr>\n",
       "      <th>2024-02-18</th>\n",
       "      <td>19995</td>\n",
       "    </tr>\n",
       "    <tr>\n",
       "      <th>2024-02-25</th>\n",
       "      <td>16914</td>\n",
       "    </tr>\n",
       "    <tr>\n",
       "      <th>2024-03-03</th>\n",
       "      <td>10532</td>\n",
       "    </tr>\n",
       "  </tbody>\n",
       "</table>\n",
       "</div>"
      ],
      "text/plain": [
       "            traffic\n",
       "timestamp          \n",
       "2024-02-04    13370\n",
       "2024-02-11    21088\n",
       "2024-02-18    19995\n",
       "2024-02-25    16914\n",
       "2024-03-03    10532"
      ]
     },
     "execution_count": 54,
     "metadata": {},
     "output_type": "execute_result"
    }
   ],
   "source": [
    "# Tạo dữ liệu lưu lượng truy cập hằng ngày\n",
    "date_range = pd.date_range(start='2024-02-01', end='2024-02-29')\n",
    "values = np.random.randint(1000, 5000, size=len(date_range))                         \n",
    "df = pd.DataFrame({'timestamp': date_range ,'traffic': values})\n",
    "\n",
    "# tính tổng lưu lượng truy cập hàng tuần.\n",
    "weekly_sum = df.resample('W', on='timestamp').sum()\n",
    "\n",
    "weekly_sum\n"
   ]
  },
  {
   "cell_type": "markdown",
   "metadata": {},
   "source": [
    "## Bài 3\n"
   ]
  },
  {
   "cell_type": "markdown",
   "metadata": {},
   "source": [
    "#### Tạo một DataFrame chứa giá cổ phiếu hàng ngày trong tháng trước. Tính toán giá trị trung bình động của cổ phiếu trong một cửa sổ trượt có kích thước là 7 ngày"
   ]
  },
  {
   "cell_type": "code",
   "execution_count": 25,
   "metadata": {},
   "outputs": [
    {
     "data": {
      "text/plain": [
       "0           NaN\n",
       "1           NaN\n",
       "2           NaN\n",
       "3           NaN\n",
       "4           NaN\n",
       "5           NaN\n",
       "6     75.857143\n",
       "7     75.857143\n",
       "8     73.142857\n",
       "9     77.142857\n",
       "10    80.714286\n",
       "11    84.285714\n",
       "12    87.714286\n",
       "13    82.142857\n",
       "14    75.857143\n",
       "15    75.571429\n",
       "16    71.857143\n",
       "17    67.285714\n",
       "18    63.857143\n",
       "19    61.714286\n",
       "20    67.571429\n",
       "21    73.857143\n",
       "22    77.285714\n",
       "23    76.714286\n",
       "24    81.428571\n",
       "25    82.857143\n",
       "26    85.000000\n",
       "27    81.142857\n",
       "28    77.714286\n",
       "Name: traffic, dtype: float64"
      ]
     },
     "execution_count": 25,
     "metadata": {},
     "output_type": "execute_result"
    }
   ],
   "source": [
    "# Tạo dữ liệu gía trị cổ phiếu hằng ngày\n",
    "date_range = pd.date_range(start='2024-02-01', end='2024-02-29', freq='D')\n",
    "prices = np.random.randint(50, 100, size=len(date_range))                         \n",
    "df = pd.DataFrame({'timestamp': date_range ,'traffic': prices})\n",
    "\n",
    "Seven_D_Mov_Avg = df['traffic'].rolling(window=7).mean()\n",
    "Seven_D_Mov_Avg"
   ]
  },
  {
   "cell_type": "markdown",
   "metadata": {},
   "source": [
    "## Bài 4"
   ]
  },
  {
   "cell_type": "markdown",
   "metadata": {},
   "source": [
    "#### Tạo một DataFrame chứa thông tin đơn hàng của khách hàng, bao gồm cột 'customer_id', 'product_category' và 'quantity'. Tạo một bảng tổng hợp (cross-tabulation) cho thấy số lượng sản phẩm đã được mua từng loại theo từng khách hàng.\n"
   ]
  },
  {
   "cell_type": "code",
   "execution_count": 16,
   "metadata": {},
   "outputs": [
    {
     "name": "stdout",
     "output_type": "stream",
     "text": [
      "product_categories  books  clothing  electronics   All\n",
      "customer_ids                                          \n",
      "1                    15.0      20.0         16.0    51\n",
      "2                     7.0       2.0         11.0    20\n",
      "3                     0.0      12.0         12.0    24\n",
      "4                    16.0       2.0         18.0    36\n",
      "5                     9.0       7.0          9.0    25\n",
      "...                   ...       ...          ...   ...\n",
      "97                    8.0      12.0          2.0    22\n",
      "98                    3.0      16.0          0.0    19\n",
      "99                    4.0       4.0         14.0    22\n",
      "100                  18.0       5.0          3.0    26\n",
      "All                 822.0     869.0        845.0  2536\n",
      "\n",
      "[101 rows x 4 columns]\n"
     ]
    }
   ],
   "source": [
    "np.random.seed(0)\n",
    "customer_ids = np.random.choice(range(1,101), size=1000)\n",
    "product_categories = np.random.choice(['electronics','clothing','books'], size=1000)\n",
    "quantities = np.random.randint(1,5,size=1000)\n",
    "df = pd.DataFrame({'customer_ids': customer_ids,\n",
    "                   'product_categories': product_categories,\n",
    "                   'quantity':quantities})\n",
    "\n",
    "# customer_product_quantity = df.groupby(['customer_ids', 'product_categories'])['quantity'].sum()\n",
    "# customer_product_quantity\n",
    "\n",
    "# Tạo bảng chéo hiển thị tổng số lượng sản phẩm đã được mua theo từng loại sản phẩm và từng khách hàng\n",
    "bang_cheo = pd.crosstab(df['customer_ids'], df['product_categories'], values=df['quantity'], aggfunc='sum', margins=True).fillna(0)\n",
    "\n",
    "# Hiển thị bảng chéo\n",
    "print(bang_cheo)\n",
    "\n",
    "# print(df['product_categories'].unique())"
   ]
  }
 ],
 "metadata": {
  "kernelspec": {
   "display_name": "Python 3",
   "language": "python",
   "name": "python3"
  },
  "language_info": {
   "codemirror_mode": {
    "name": "ipython",
    "version": 3
   },
   "file_extension": ".py",
   "mimetype": "text/x-python",
   "name": "python",
   "nbconvert_exporter": "python",
   "pygments_lexer": "ipython3",
   "version": "3.12.1"
  }
 },
 "nbformat": 4,
 "nbformat_minor": 2
}
